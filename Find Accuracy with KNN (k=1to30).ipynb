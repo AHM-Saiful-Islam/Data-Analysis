{
  "metadata": {
    "kernelspec": {
      "name": "python",
      "display_name": "Python (Pyodide)",
      "language": "python"
    },
    "language_info": {
      "codemirror_mode": {
        "name": "python",
        "version": 3
      },
      "file_extension": ".py",
      "mimetype": "text/x-python",
      "name": "python",
      "nbconvert_exporter": "python",
      "pygments_lexer": "ipython3",
      "version": "3.8"
    }
  },
  "nbformat_minor": 4,
  "nbformat": 4,
  "cells": [
    {
      "cell_type": "code",
      "source": "# import dataset\nfrom sklearn import datasets\niris = datasets.load_iris()\n\n# put data in X matrix and target in y vector\nX = iris.data\ny = iris.target\n\n# splitting data into train and test set\nfrom sklearn.model_selection import train_test_split\nX_train, X_test, y_train, y_test = train_test_split(X,y,test_size=0.3, random_state = 4)\n\n# importing knn classifier\nfrom sklearn.neighbors import KNeighborsClassifier\n\n#creating object n_neighbors = 1 to 30\nfor n in range(1, 31):\n    knn = KNeighborsClassifier(n_neighbors = n)\n    \n    #fitting model\n    knn.fit(X_train, y_train)\n    \n    #prediction\n    y_pred = knn.predict(X_test)\n    \n    # compare and find accuracy\n    from sklearn.metrics import accuracy_score\n    acc = accuracy_score(y_test, y_pred)\n    print(\"Accuracy of  \",n,\" is \",acc)\n    \n    # reaseon for accuracy change: change in test size, random state, algorithm, etc.\n    # best random state 42",
      "metadata": {
        "trusted": true
      },
      "execution_count": 1,
      "outputs": [
        {
          "name": "stdout",
          "text": "Accuracy of   1  is  0.9555555555555556\nAccuracy of   2  is  0.9555555555555556\nAccuracy of   3  is  0.9777777777777777\nAccuracy of   4  is  0.9777777777777777\nAccuracy of   5  is  0.9777777777777777\nAccuracy of   6  is  0.9777777777777777\nAccuracy of   7  is  0.9777777777777777\nAccuracy of   8  is  0.9777777777777777\nAccuracy of   9  is  0.9777777777777777\nAccuracy of   10  is  0.9777777777777777\nAccuracy of   11  is  0.9777777777777777\nAccuracy of   12  is  0.9777777777777777\nAccuracy of   13  is  0.9777777777777777\nAccuracy of   14  is  0.9777777777777777\nAccuracy of   15  is  0.9777777777777777\nAccuracy of   16  is  0.9777777777777777\nAccuracy of   17  is  0.9777777777777777\nAccuracy of   18  is  0.9777777777777777\nAccuracy of   19  is  0.9777777777777777\nAccuracy of   20  is  0.9777777777777777\nAccuracy of   21  is  0.9777777777777777\nAccuracy of   22  is  0.9777777777777777\nAccuracy of   23  is  0.9777777777777777\nAccuracy of   24  is  0.9777777777777777\nAccuracy of   25  is  0.9777777777777777\nAccuracy of   26  is  0.9777777777777777\nAccuracy of   27  is  0.9777777777777777\nAccuracy of   28  is  0.9555555555555556\nAccuracy of   29  is  0.9555555555555556\nAccuracy of   30  is  0.9555555555555556\n",
          "output_type": "stream"
        }
      ]
    },
    {
      "cell_type": "code",
      "source": "",
      "metadata": {},
      "execution_count": null,
      "outputs": []
    }
  ]
}